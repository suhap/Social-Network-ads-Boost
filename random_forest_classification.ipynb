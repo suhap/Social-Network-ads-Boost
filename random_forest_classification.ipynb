{
  "nbformat": 4,
  "nbformat_minor": 0,
  "metadata": {
    "colab": {
      "name": "random_forest_classification.ipynb",
      "provenance": [],
      "authorship_tag": "ABX9TyPwtu/1AeUX9QiwoAgbryXZ",
      "include_colab_link": true
    },
    "kernelspec": {
      "name": "python3",
      "display_name": "Python 3"
    },
    "language_info": {
      "name": "python"
    }
  },
  "cells": [
    {
      "cell_type": "markdown",
      "metadata": {
        "id": "view-in-github",
        "colab_type": "text"
      },
      "source": [
        "<a href=\"https://colab.research.google.com/github/suhap/Social-Network-ads-Boost/blob/master/random_forest_classification.ipynb\" target=\"_parent\"><img src=\"https://colab.research.google.com/assets/colab-badge.svg\" alt=\"Open In Colab\"/></a>"
      ]
    },
    {
      "cell_type": "markdown",
      "metadata": {
        "id": "Lfl1CRA1uIiE"
      },
      "source": [
        "# Naive Bayes\n",
        "\n",
        "Naive Bayes, Bayes temelli bir sınıflandırma algoritmasıdır. Dolayısıyla öncelikle Bayes Teoremi anlatılacaktır. Bayes teoremi önceden bilinen bir koşul altında olasılık hesabının yapılmasını öngörmektedir. \n",
        "\n",
        "B olayının meydana gelmesi koşulu altında A olayının olasılığının Bayes kullanılarak hesaplanması formülü aşağıda verilmektedir.\n",
        "\n",
        "![2_1](https://raw.githubusercontent.com/suhap/Social-Network-ads-Boost/master/resource/bayes0.PNG)\n",
        "\n",
        "Bu formül, B olayının meydana gelmesi durumunda A olayının olasılığı Bayes teoremi kulllanılarak bulunabilineceğini göstermektedir. \n",
        "\n",
        "![2_1](https://raw.githubusercontent.com/suhap/Social-Network-ads-Boost/master/resource/bayes1.PNG)\n",
        "\n",
        "# Algoritmanın çalışma mantığı\n",
        "\n",
        "Bir firmada çalışanların yaş ve maaş verilerini kullanarak işe yürüyerek veya araba ile gittiklerini Naive Bayes Teoremi kullanarak bulan model geliştirilecektir.  \n",
        "\n",
        "![2_1](https://raw.githubusercontent.com/suhap/Social-Network-ads-Boost/master/resource/bayes2.PNG)\n",
        "\n",
        "Yukarıdaki şekilde 30 tane nokta görülmektedir. Bu noktaların kırmızı renkte olanlar yürüyerek, kırmızı renkte olanlar ise araba ile işe gitmektedir. Bu düzleme yeni eklenen bir noktanın eldeki veriler kulllanılarak hangi renkte olacağına karar verilmesi gerekmektedir. \n",
        "\n",
        "![2_1](https://raw.githubusercontent.com/suhap/Social-Network-ads-Boost/master/resource/bayes3.PNG)\n",
        "\n",
        "X ekseni yaşı, Y ekseni maaşı göstermektedir. Yeni noktaların hangi kategoriye girdiğini bulmak için Naive Bayes algoritması kullanılacaktır. Yeni nokta için, yürüyerek ve araba ile işe gidenlere ait \"posterior probability\" bulmamız gerekmektedir. Bulunan olasılık değerlerinden en yükseği noktanın dahi olacağı kategoriyi belirleyecektir. \n",
        "\n",
        "Yeni nokta için, yürüyerek işe gidenlere ait \"posterior probability\" değeri:\n",
        "\n",
        "![2_1](https://raw.githubusercontent.com/suhap/Social-Network-ads-Boost/master/resource/bayes4.PNG)\n",
        "\n",
        "Yeni nokta için, araba ile işe gidenlere ait \"posterior probability\" değeri:\n",
        "\n",
        "![2_1](https://raw.githubusercontent.com/suhap/Social-Network-ads-Boost/master/resource/bayes5.PNG)\n",
        "\n",
        "# Naive Bayes Algoritma Adımları\n",
        "\n",
        "Adım 1: Posterior olasılığın hesaplanması için Bayes teoremi için gerekli olan tüm olasılıkları bulmalıyız.\n",
        "\n",
        "P(Walks): Ofise yürüyerek gidenlerin olasılığı\n",
        "\n",
        "![2_1](https://raw.githubusercontent.com/suhap/Social-Network-ads-Boost/master/resource/bayes6.PNG)\n",
        "\n",
        "Marjinal olasılığı, P(X) bulmak için, yeni eklenen nokta merkezde olmak üzere bir kırmızı ve yeşil noktaları içine alan çember çizilir.\n",
        "\n",
        "![2_1](https://raw.githubusercontent.com/suhap/Social-Network-ads-Boost/master/resource/bayes8.PNG)\n",
        "\n",
        "P(X|Walks) aşağıdaki gibi bulunabilir.\n",
        "\n",
        "![2_1](https://raw.githubusercontent.com/suhap/Social-Network-ads-Boost/master/resource/bayes9.PNG)\n",
        "\n",
        "Bayes teoremi kullanılarak posterior probability bulunabilir;\n",
        "\n",
        "![2_1](https://raw.githubusercontent.com/suhap/Social-Network-ads-Boost/master/resource/bayes10.PNG)\n",
        "\n",
        "Adım 2: Benzer şekilde, araba ile işe gidenlere ait  arka posterior probability bulunabilir; 0.25\n",
        "\n",
        "Adım 3: Her iki posterior probability değeri karşılaştırılır ve yeni eklenen noktanın P(Walks|X) değerinin daha büyük olduğu için yeni nokta yürüyerek işe gitme kategorisine aitti denilebilir. \n",
        "\n",
        "# Naive Bayes gerçekleştirimi\n",
        "\n",
        "Uygulamada, bir kullanıcının maaş, yaş ve cinsiyete göre sitedeki reklama tıklayarak bir ürün satın alıp almadığının ayrıntılarını içeren sosyal ağ reklam veri seti kullanılacaktır.\n",
        "\n",
        "![2_1](https://raw.githubusercontent.com/suhap/Social-Network-ads-Boost/master/resource/bayes11.PNG)\n",
        "\n",
        "Kütüphane tanımlamaları:\n",
        "\n",
        "\n",
        "\n",
        "\n",
        "\n",
        "\n",
        "\n",
        "\n",
        "\n",
        "\n",
        "\n"
      ]
    },
    {
      "cell_type": "code",
      "metadata": {
        "id": "eawbC5LUiyMo"
      },
      "source": [
        "import numpy as np\n",
        "import matplotlib.pyplot as plt\n",
        "import pandas as pd\n",
        "import sklearn"
      ],
      "execution_count": 1,
      "outputs": []
    },
    {
      "cell_type": "markdown",
      "metadata": {
        "id": "1VVK9wLpjUEE"
      },
      "source": [
        "Veri seti aktarımı:"
      ]
    },
    {
      "cell_type": "code",
      "metadata": {
        "id": "p4gOJL6qkH_r"
      },
      "source": [
        "url = 'https://raw.githubusercontent.com/suhap/Social-Network-ads-Boost/master/Social_Network_Ads.csv'\n",
        "dataset = pd.read_csv(url)\n",
        "X = dataset.iloc[:,[1, 2, 3]].values\n",
        "y = dataset.iloc[:,-1].values\n"
      ],
      "execution_count": 2,
      "outputs": []
    },
    {
      "cell_type": "markdown",
      "metadata": {
        "id": "7QmwEaeS1S8K"
      },
      "source": [
        "Veri seti karakter içeriyorsa LabelEncoder fonksiyonu kullanılarak uygun formata getirilmelidir."
      ]
    },
    {
      "cell_type": "code",
      "metadata": {
        "id": "Gff5rbvMPTge"
      },
      "source": [
        "from sklearn.preprocessing import LabelEncoder\n",
        "le = LabelEncoder()\n",
        "X[:,0]=le.fit_transform(X[:,0])"
      ],
      "execution_count": 3,
      "outputs": []
    },
    {
      "cell_type": "markdown",
      "metadata": {
        "id": "RbdChh2ZRNEI"
      },
      "source": [
        "#Eğitim ve Test verisi\n",
        "Eğitim işlemi için veri setinin bir kısmı kullanılması gerekmektedir. Toplam veri setinden 80(tüm verinin %20'si) veri test verisi olarak ayarlanırken, 320 veri eğitim seti olarak kullanılmaktadır."
      ]
    },
    {
      "cell_type": "code",
      "metadata": {
        "id": "NRyO8EGCvNSr"
      },
      "source": [
        "from sklearn.model_selection import train_test_split\n",
        "X_train, X_test, y_train, y_test = train_test_split(X, y, test_size = 0.20, random_state = 0)"
      ],
      "execution_count": 4,
      "outputs": []
    },
    {
      "cell_type": "markdown",
      "metadata": {
        "id": "8zP5Q8HEz2C1"
      },
      "source": [
        "# Özellik ölçekleme\n",
        "Ardından, bağımsız değişkenlerin eğitim ve test veri setleri özellik ölçeklendirme işleminden geçirilmektedir. "
      ]
    }
  ]
}