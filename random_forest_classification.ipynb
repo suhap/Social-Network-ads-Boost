{
  "nbformat": 4,
  "nbformat_minor": 0,
  "metadata": {
    "colab": {
      "name": "random_forest_classification.ipynb",
      "provenance": [],
      "authorship_tag": "ABX9TyMHsG0IxnugSkWXVcMpDYnj",
      "include_colab_link": true
    },
    "kernelspec": {
      "name": "python3",
      "display_name": "Python 3"
    },
    "language_info": {
      "name": "python"
    }
  },
  "cells": [
    {
      "cell_type": "markdown",
      "metadata": {
        "id": "view-in-github",
        "colab_type": "text"
      },
      "source": [
        "<a href=\"https://colab.research.google.com/github/suhap/Social-Network-ads-Boost/blob/master/random_forest_classification.ipynb\" target=\"_parent\"><img src=\"https://colab.research.google.com/assets/colab-badge.svg\" alt=\"Open In Colab\"/></a>"
      ]
    },
    {
      "cell_type": "markdown",
      "metadata": {
        "id": "Lfl1CRA1uIiE"
      },
      "source": [
        "# Naive Bayes\n",
        "\n",
        "Naive Bayes, Bayes temelli bir sınıflandırma algoritmasıdır. Dolayısıyla öncelikle Bayes Teoremi anlatılacaktır. Bayes teoremi önceden bilinen bir koşul altında olasılık hesabının yapılmasını öngörmektedir. \n",
        "\n",
        "B olayının meydana gelmesi koşulu altında A olayının olasılığının Bayes kullanılarak hesaplanması formülü aşağıda verilmektedir.\n",
        "\n",
        "![2_1](https://raw.githubusercontent.com/suhap/Social-Network-ads-Boost/master/resource/bayes0.PNG)\n",
        "\n",
        "Bu formül, B olayının meydana gelmesi durumunda A olayının olasılığı Bayes teoremi kulllanılarak bulunabilineceğini göstermektedir. \n",
        "\n",
        "![2_1](https://raw.githubusercontent.com/suhap/Social-Network-ads-Boost/master/resource/bayes1.PNG)\n",
        "\n",
        "# Algoritmanın çalışma mantığı\n",
        "\n",
        "Bir firmada çalışanların yaş ve maaş verilerini kullanarak işe yürüyerek veya araba ile gittiklerini Naive Bayes Teoremi kullanarak bulan model geliştirilecektir.  \n",
        "\n",
        "![2_1](https://raw.githubusercontent.com/suhap/Social-Network-ads-Boost/master/resource/bayes2.PNG)\n",
        "\n",
        "Yukarıdaki şekilde 30 tane nokta görülmektedir. Bu noktaların kırmızı renkte olanlar yürüyerek, kırmızı renkte olanlar ise araba ile işe gitmektedir. Bu düzleme yeni eklenen bir noktanın eldeki veriler kulllanılarak hangi renkte olacağına karar verilmesi gerekmektedir. \n",
        "\n",
        "![2_1](https://raw.githubusercontent.com/suhap/Social-Network-ads-Boost/master/resource/bayes3.PNG)\n",
        "\n",
        "\n",
        "X ekseni yaşı, Y ekseni maaşı göstermektedir. Yeni noktaların hangi kategoriye girdiğini bulmak için Naive Bayes algoritması kullanılacaktır. Bu işlem için, yürüyerek gidenler için \"posterior probability\" bilmemiz gerekmektedir.  "
      ]
    }
  ]
}