{
  "nbformat": 4,
  "nbformat_minor": 0,
  "metadata": {
    "colab": {
      "name": "random_forest_classification.ipynb",
      "provenance": [],
      "authorship_tag": "ABX9TyMMQ0hxY7wN/BDKHhIAUvtk",
      "include_colab_link": true
    },
    "kernelspec": {
      "name": "python3",
      "display_name": "Python 3"
    },
    "language_info": {
      "name": "python"
    }
  },
  "cells": [
    {
      "cell_type": "markdown",
      "metadata": {
        "id": "view-in-github",
        "colab_type": "text"
      },
      "source": [
        "<a href=\"https://colab.research.google.com/github/suhap/Social-Network-ads-Boost/blob/master/random_forest_classification.ipynb\" target=\"_parent\"><img src=\"https://colab.research.google.com/assets/colab-badge.svg\" alt=\"Open In Colab\"/></a>"
      ]
    },
    {
      "cell_type": "markdown",
      "metadata": {
        "id": "Lfl1CRA1uIiE"
      },
      "source": [
        "# Naive Bayes\n",
        "\n",
        "Naive Bayes, Bayes temelli bir sınıflandırma algoritmasıdır. Dolayısıyla öncelikle Bayes Teoremi anlatılacaktır. Bayes teoremi önceden bilinen bir koşul altında olasılık hesabının yapılmasını öngörmektedir. \n",
        "\n",
        "B olayının meydana gelmesi koşulu altında A olayının olasılığının Bayes kullanılarak hesaplanması formülü aşağıda verilmektedir.\n",
        "\n",
        "P(A|B) = p(B|A)*P(A)/P(B)\n"
      ]
    }
  ]
}